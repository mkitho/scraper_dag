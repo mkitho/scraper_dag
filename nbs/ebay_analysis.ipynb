{
 "cells": [
  {
   "cell_type": "markdown",
   "metadata": {},
   "source": [
    "#  Thinkpad X-series Price Analysis\n",
    "This notebook serves to analyse all the unique listings on Ebay to understand the price trends for the portable 12\\\" X-series laptops\n",
    "\n",
    "This notebook analyses the daily-collected price information from the ebay_spider scraper. Then using the aggregated data, observe what are the price trends for 2 types of laptops:\n",
    "1. Complete working laptop\n",
    "2. Parts-only laptop"
   ]
  },
  {
   "cell_type": "markdown",
   "metadata": {},
   "source": [
    "## `listing` table schema"
   ]
  },
  {
   "cell_type": "markdown",
   "metadata": {},
   "source": [
    "|column|description|\n",
    "|:-|:-|\n",
    "|id|primary key|\n",
    "|title|seller assigned listing title|\n",
    "|stars| out of 5.0 rating|\n",
    "|condition|refurbished /parts only/pre-owned|\n",
    "|price|in U.S. dollar|\n",
    "|link|Listing URL from Ebay|\n",
    "|cpu|i3/i5 / i7 |\n",
    "|clock|CPU clock frequency(GHz) |\n",
    "|ram| Memory (GB) |\n",
    "|storage| HDD/SSD storage (GB)|\n",
    "|has_dock| is dock included as described in title? |\n",
    "|parts_only| these are defective units for parts harvesting. Usually much cheaper|\n",
    "|has_missing| any missing components e.g. HDD, RAM, OS as declared in title? |\n",
    "|machine_id| 1: X220, 2: X230, 3: X240 |\n",
    "|is_auc| auction sale? or buy now? |"
   ]
  },
  {
   "cell_type": "code",
   "execution_count": 1,
   "metadata": {},
   "outputs": [],
   "source": [
    "import pandas as pd\n",
    "import datetime as dt\n",
    "import matplotlib.pyplot as plt\n",
    "import seaborn as sns\n",
    "%matplotlib inline"
   ]
  },
  {
   "cell_type": "code",
   "execution_count": null,
   "metadata": {},
   "outputs": [],
   "source": [
    "DBUSERNAME = #<your-username>\n",
    "DBPASSWORD = #<your-password>\n",
    "DBIP = #<your-db-ip>\n",
    "DBNAME = #<your-db-name>"
   ]
  },
  {
   "cell_type": "markdown",
   "metadata": {},
   "source": [
    "## Connecting to database\n",
    "Using SQLAlchemy and pandas API to connect to Postgres DB on Amazon RDS."
   ]
  },
  {
   "cell_type": "code",
   "execution_count": 2,
   "metadata": {},
   "outputs": [],
   "source": [
    "sql_select = \"select * from listing\"\n",
    "sql_conn = f\"postgresql://{DBUSERNAME}:{DBPASSWORD}@{DBIP}:5432/{DBNAME}\""
   ]
  },
  {
   "cell_type": "code",
   "execution_count": 3,
   "metadata": {},
   "outputs": [],
   "source": [
    "df = pd.read_sql_query(sql_select, sql_conn)"
   ]
  },
  {
   "cell_type": "code",
   "execution_count": 4,
   "metadata": {},
   "outputs": [
    {
     "data": {
      "text/html": [
       "<div>\n",
       "<style scoped>\n",
       "    .dataframe tbody tr th:only-of-type {\n",
       "        vertical-align: middle;\n",
       "    }\n",
       "\n",
       "    .dataframe tbody tr th {\n",
       "        vertical-align: top;\n",
       "    }\n",
       "\n",
       "    .dataframe thead th {\n",
       "        text-align: right;\n",
       "    }\n",
       "</style>\n",
       "<table border=\"1\" class=\"dataframe\">\n",
       "  <thead>\n",
       "    <tr style=\"text-align: right;\">\n",
       "      <th></th>\n",
       "      <th>id</th>\n",
       "      <th>title</th>\n",
       "      <th>stars</th>\n",
       "      <th>condition</th>\n",
       "      <th>price</th>\n",
       "      <th>link</th>\n",
       "      <th>cpu</th>\n",
       "      <th>clock</th>\n",
       "      <th>ram</th>\n",
       "      <th>storage</th>\n",
       "      <th>has_dock</th>\n",
       "      <th>parts_only</th>\n",
       "      <th>has_missing</th>\n",
       "      <th>machine_id</th>\n",
       "      <th>is_auc</th>\n",
       "      <th>date</th>\n",
       "    </tr>\n",
       "  </thead>\n",
       "  <tbody>\n",
       "    <tr>\n",
       "      <th>46</th>\n",
       "      <td>1229</td>\n",
       "      <td>Lenovo ThinkPad Laptop X220 i5 2.5GHz 6GB 500G...</td>\n",
       "      <td>0.0</td>\n",
       "      <td>Refurbished</td>\n",
       "      <td>199.00</td>\n",
       "      <td>https://www.ebay.com/itm/Lenovo-ThinkPad-Lapto...</td>\n",
       "      <td>i5</td>\n",
       "      <td>2.5</td>\n",
       "      <td>6.0</td>\n",
       "      <td>500.0</td>\n",
       "      <td>0</td>\n",
       "      <td>0</td>\n",
       "      <td>0</td>\n",
       "      <td>1</td>\n",
       "      <td>0</td>\n",
       "      <td>2020-06-09</td>\n",
       "    </tr>\n",
       "    <tr>\n",
       "      <th>351</th>\n",
       "      <td>1534</td>\n",
       "      <td>Lenovo Thinkpad X240 i3 4Gb 500GB HDD AC Adapt...</td>\n",
       "      <td>0.0</td>\n",
       "      <td>Refurbished</td>\n",
       "      <td>223.33</td>\n",
       "      <td>https://www.ebay.com/itm/Lenovo-Thinkpad-X240-...</td>\n",
       "      <td>i3</td>\n",
       "      <td>NaN</td>\n",
       "      <td>4.0</td>\n",
       "      <td>500.0</td>\n",
       "      <td>0</td>\n",
       "      <td>0</td>\n",
       "      <td>0</td>\n",
       "      <td>3</td>\n",
       "      <td>0</td>\n",
       "      <td>2020-06-10</td>\n",
       "    </tr>\n",
       "    <tr>\n",
       "      <th>211</th>\n",
       "      <td>1394</td>\n",
       "      <td>Lenovo ThinkPad X230 i5-3360M 2.8GHz 4GB 320GB...</td>\n",
       "      <td>0.0</td>\n",
       "      <td>Pre-Owned</td>\n",
       "      <td>149.95</td>\n",
       "      <td>https://www.ebay.com/itm/Lenovo-ThinkPad-X230-...</td>\n",
       "      <td>i5</td>\n",
       "      <td>2.8</td>\n",
       "      <td>4.0</td>\n",
       "      <td>320.0</td>\n",
       "      <td>0</td>\n",
       "      <td>0</td>\n",
       "      <td>0</td>\n",
       "      <td>2</td>\n",
       "      <td>0</td>\n",
       "      <td>2020-06-09</td>\n",
       "    </tr>\n",
       "    <tr>\n",
       "      <th>344</th>\n",
       "      <td>1527</td>\n",
       "      <td>Lenovo Thinkpad X240 12.5\" Notebook - Intel i5...</td>\n",
       "      <td>0.0</td>\n",
       "      <td>Refurbished</td>\n",
       "      <td>293.55</td>\n",
       "      <td>https://www.ebay.com/itm/Lenovo-Thinkpad-X240-...</td>\n",
       "      <td>i5</td>\n",
       "      <td>2.5</td>\n",
       "      <td>8.0</td>\n",
       "      <td>250.0</td>\n",
       "      <td>0</td>\n",
       "      <td>0</td>\n",
       "      <td>0</td>\n",
       "      <td>3</td>\n",
       "      <td>0</td>\n",
       "      <td>2020-06-10</td>\n",
       "    </tr>\n",
       "    <tr>\n",
       "      <th>377</th>\n",
       "      <td>1560</td>\n",
       "      <td>Lenovo Thinkpad laptop X240 i3 4GB RAM 160GB S...</td>\n",
       "      <td>5.0</td>\n",
       "      <td>Refurbished</td>\n",
       "      <td>250.00</td>\n",
       "      <td>https://www.ebay.com/itm/Lenovo-Thinkpad-lapto...</td>\n",
       "      <td>i3</td>\n",
       "      <td>NaN</td>\n",
       "      <td>4.0</td>\n",
       "      <td>160.0</td>\n",
       "      <td>0</td>\n",
       "      <td>0</td>\n",
       "      <td>0</td>\n",
       "      <td>3</td>\n",
       "      <td>0</td>\n",
       "      <td>2020-06-10</td>\n",
       "    </tr>\n",
       "  </tbody>\n",
       "</table>\n",
       "</div>"
      ],
      "text/plain": [
       "       id                                              title  stars  \\\n",
       "46   1229  Lenovo ThinkPad Laptop X220 i5 2.5GHz 6GB 500G...    0.0   \n",
       "351  1534  Lenovo Thinkpad X240 i3 4Gb 500GB HDD AC Adapt...    0.0   \n",
       "211  1394  Lenovo ThinkPad X230 i5-3360M 2.8GHz 4GB 320GB...    0.0   \n",
       "344  1527  Lenovo Thinkpad X240 12.5\" Notebook - Intel i5...    0.0   \n",
       "377  1560  Lenovo Thinkpad laptop X240 i3 4GB RAM 160GB S...    5.0   \n",
       "\n",
       "       condition   price                                               link  \\\n",
       "46   Refurbished  199.00  https://www.ebay.com/itm/Lenovo-ThinkPad-Lapto...   \n",
       "351  Refurbished  223.33  https://www.ebay.com/itm/Lenovo-Thinkpad-X240-...   \n",
       "211    Pre-Owned  149.95  https://www.ebay.com/itm/Lenovo-ThinkPad-X230-...   \n",
       "344  Refurbished  293.55  https://www.ebay.com/itm/Lenovo-Thinkpad-X240-...   \n",
       "377  Refurbished  250.00  https://www.ebay.com/itm/Lenovo-Thinkpad-lapto...   \n",
       "\n",
       "    cpu  clock  ram  storage  has_dock parts_only has_missing  machine_id  \\\n",
       "46   i5    2.5  6.0    500.0         0          0           0           1   \n",
       "351  i3    NaN  4.0    500.0         0          0           0           3   \n",
       "211  i5    2.8  4.0    320.0         0          0           0           2   \n",
       "344  i5    2.5  8.0    250.0         0          0           0           3   \n",
       "377  i3    NaN  4.0    160.0         0          0           0           3   \n",
       "\n",
       "    is_auc        date  \n",
       "46       0  2020-06-09  \n",
       "351      0  2020-06-10  \n",
       "211      0  2020-06-09  \n",
       "344      0  2020-06-10  \n",
       "377      0  2020-06-10  "
      ]
     },
     "execution_count": 4,
     "metadata": {},
     "output_type": "execute_result"
    }
   ],
   "source": [
    "df.sample(5)"
   ]
  },
  {
   "cell_type": "code",
   "execution_count": 5,
   "metadata": {},
   "outputs": [
    {
     "data": {
      "text/html": [
       "<div>\n",
       "<style scoped>\n",
       "    .dataframe tbody tr th:only-of-type {\n",
       "        vertical-align: middle;\n",
       "    }\n",
       "\n",
       "    .dataframe tbody tr th {\n",
       "        vertical-align: top;\n",
       "    }\n",
       "\n",
       "    .dataframe thead th {\n",
       "        text-align: right;\n",
       "    }\n",
       "</style>\n",
       "<table border=\"1\" class=\"dataframe\">\n",
       "  <thead>\n",
       "    <tr style=\"text-align: right;\">\n",
       "      <th></th>\n",
       "      <th>id</th>\n",
       "      <th>stars</th>\n",
       "      <th>price</th>\n",
       "      <th>clock</th>\n",
       "      <th>ram</th>\n",
       "      <th>storage</th>\n",
       "      <th>has_dock</th>\n",
       "      <th>machine_id</th>\n",
       "    </tr>\n",
       "  </thead>\n",
       "  <tbody>\n",
       "    <tr>\n",
       "      <th>count</th>\n",
       "      <td>492.000000</td>\n",
       "      <td>492.000000</td>\n",
       "      <td>492.000000</td>\n",
       "      <td>338.000000</td>\n",
       "      <td>422.000000</td>\n",
       "      <td>333.000000</td>\n",
       "      <td>492.000000</td>\n",
       "      <td>492.000000</td>\n",
       "    </tr>\n",
       "    <tr>\n",
       "      <th>mean</th>\n",
       "      <td>1428.500000</td>\n",
       "      <td>0.284553</td>\n",
       "      <td>261.992459</td>\n",
       "      <td>2.467456</td>\n",
       "      <td>6.962085</td>\n",
       "      <td>299.063063</td>\n",
       "      <td>0.036585</td>\n",
       "      <td>2.148374</td>\n",
       "    </tr>\n",
       "    <tr>\n",
       "      <th>std</th>\n",
       "      <td>142.172431</td>\n",
       "      <td>1.159537</td>\n",
       "      <td>193.250006</td>\n",
       "      <td>0.514254</td>\n",
       "      <td>4.945641</td>\n",
       "      <td>145.798029</td>\n",
       "      <td>0.187933</td>\n",
       "      <td>0.727925</td>\n",
       "    </tr>\n",
       "    <tr>\n",
       "      <th>min</th>\n",
       "      <td>1183.000000</td>\n",
       "      <td>0.000000</td>\n",
       "      <td>0.990000</td>\n",
       "      <td>1.600000</td>\n",
       "      <td>2.000000</td>\n",
       "      <td>120.000000</td>\n",
       "      <td>0.000000</td>\n",
       "      <td>1.000000</td>\n",
       "    </tr>\n",
       "    <tr>\n",
       "      <th>25%</th>\n",
       "      <td>1305.750000</td>\n",
       "      <td>0.000000</td>\n",
       "      <td>159.950000</td>\n",
       "      <td>2.500000</td>\n",
       "      <td>4.000000</td>\n",
       "      <td>180.000000</td>\n",
       "      <td>0.000000</td>\n",
       "      <td>2.000000</td>\n",
       "    </tr>\n",
       "    <tr>\n",
       "      <th>50%</th>\n",
       "      <td>1428.500000</td>\n",
       "      <td>0.000000</td>\n",
       "      <td>224.990000</td>\n",
       "      <td>2.500000</td>\n",
       "      <td>8.000000</td>\n",
       "      <td>256.000000</td>\n",
       "      <td>0.000000</td>\n",
       "      <td>2.000000</td>\n",
       "    </tr>\n",
       "    <tr>\n",
       "      <th>75%</th>\n",
       "      <td>1551.250000</td>\n",
       "      <td>0.000000</td>\n",
       "      <td>317.497500</td>\n",
       "      <td>2.600000</td>\n",
       "      <td>8.000000</td>\n",
       "      <td>500.000000</td>\n",
       "      <td>0.000000</td>\n",
       "      <td>3.000000</td>\n",
       "    </tr>\n",
       "    <tr>\n",
       "      <th>max</th>\n",
       "      <td>1674.000000</td>\n",
       "      <td>5.000000</td>\n",
       "      <td>1676.060000</td>\n",
       "      <td>8.100000</td>\n",
       "      <td>80.000000</td>\n",
       "      <td>750.000000</td>\n",
       "      <td>1.000000</td>\n",
       "      <td>3.000000</td>\n",
       "    </tr>\n",
       "  </tbody>\n",
       "</table>\n",
       "</div>"
      ],
      "text/plain": [
       "                id       stars        price       clock         ram  \\\n",
       "count   492.000000  492.000000   492.000000  338.000000  422.000000   \n",
       "mean   1428.500000    0.284553   261.992459    2.467456    6.962085   \n",
       "std     142.172431    1.159537   193.250006    0.514254    4.945641   \n",
       "min    1183.000000    0.000000     0.990000    1.600000    2.000000   \n",
       "25%    1305.750000    0.000000   159.950000    2.500000    4.000000   \n",
       "50%    1428.500000    0.000000   224.990000    2.500000    8.000000   \n",
       "75%    1551.250000    0.000000   317.497500    2.600000    8.000000   \n",
       "max    1674.000000    5.000000  1676.060000    8.100000   80.000000   \n",
       "\n",
       "          storage    has_dock  machine_id  \n",
       "count  333.000000  492.000000  492.000000  \n",
       "mean   299.063063    0.036585    2.148374  \n",
       "std    145.798029    0.187933    0.727925  \n",
       "min    120.000000    0.000000    1.000000  \n",
       "25%    180.000000    0.000000    2.000000  \n",
       "50%    256.000000    0.000000    2.000000  \n",
       "75%    500.000000    0.000000    3.000000  \n",
       "max    750.000000    1.000000    3.000000  "
      ]
     },
     "execution_count": 5,
     "metadata": {},
     "output_type": "execute_result"
    }
   ],
   "source": [
    "df.describe()"
   ]
  },
  {
   "cell_type": "markdown",
   "metadata": {},
   "source": [
    "**Outlier analysis**\n",
    "+ Value ranges for the columns of `ram`, `storage` are within reasonable values. And so are the categorial, integer and boolean-typed columns\n",
    "+ Note that 1 unit is exceedingly expensive, priced at \\$1676.06\n",
    "+ A listing also quoted 8.1GHz for the CPU frequency, though this is an insignificant issue, since clock rates do not play a big role in the analysis"
   ]
  },
  {
   "cell_type": "code",
   "execution_count": 6,
   "metadata": {
    "scrolled": true
   },
   "outputs": [
    {
     "data": {
      "text/plain": [
       "63     1256.87\n",
       "64     1676.06\n",
       "309    1676.06\n",
       "310    1256.87\n",
       "Name: price, dtype: float64"
      ]
     },
     "execution_count": 6,
     "metadata": {},
     "output_type": "execute_result"
    }
   ],
   "source": [
    "df.price[df.price > 999]"
   ]
  },
  {
   "cell_type": "markdown",
   "metadata": {},
   "source": [
    "## 1. Distribution of prices for X-series models"
   ]
  },
  {
   "cell_type": "code",
   "execution_count": 7,
   "metadata": {},
   "outputs": [],
   "source": [
    "df_pa = df[(df.price < 1000) & \n",
    "           (df.parts_only=='0') &\n",
    "           (df.has_missing=='0') &\n",
    "           (df.has_dock==0) &\n",
    "           (df.is_auc=='0') &\n",
    "           (df.date==dt.date(year=2020, month=6, day=10))].copy()"
   ]
  },
  {
   "cell_type": "markdown",
   "metadata": {},
   "source": [
    "+ There are several listings priced at >\\$1000. Probably these are bulk sales?\n",
    "+ In order to not distort the distribution of prices, we eliminate units that are too expensive and contain missing parts.\n",
    "+ By studying this distribution of prices in this second-hard market, I will know what's a reasonable price for the model that I'm buying."
   ]
  },
  {
   "cell_type": "code",
   "execution_count": 8,
   "metadata": {
    "scrolled": false
   },
   "outputs": [
    {
     "data": {
      "image/png": "[encoded data removed]",
      "text/plain": [
       "<Figure size 720x504 with 1 Axes>"
      ]
     },
     "metadata": {
      "needs_background": "light"
     },
     "output_type": "display_data"
    }
   ],
   "source": [
    "plt.figure(figsize=(10, 7))\n",
    "sns.distplot(df_pa[df_pa.machine_id==1].price, bins=20, label='X220')\n",
    "sns.distplot(df_pa[df_pa.machine_id==2].price, bins=20, label='X230')\n",
    "sns.distplot(df_pa[df_pa.machine_id==3].price, bins=20, label='X240')\n",
    "plt.title('Price distribution for working units')\n",
    "plt.legend()\n",
    "plt.show()"
   ]
  },
  {
   "cell_type": "markdown",
   "metadata": {},
   "source": [
    "## 2. Prices for parts-only listings\n",
    "I am also interested to know which are the best bargains among the defective units. Buy purchasing one unit, I can obtain spare parts for my beloved X-series"
   ]
  },
  {
   "cell_type": "code",
   "execution_count": 9,
   "metadata": {},
   "outputs": [],
   "source": [
    "df_po = df[((df.parts_only=='1') | (df.has_missing=='1') | (df.condition=='Parts Only')) &\n",
    "           (df.price < 200) & \n",
    "           (df.is_auc == '0') & \n",
    "           (df.date==dt.date(year=2020, month=6, day=10))].copy()"
   ]
  },
  {
   "cell_type": "code",
   "execution_count": 10,
   "metadata": {},
   "outputs": [
    {
     "data": {
      "text/plain": [
       "Text(0.5, 1.0, 'Price distribution for parts-only listings')"
      ]
     },
     "execution_count": 10,
     "metadata": {},
     "output_type": "execute_result"
    },
    {
     "data": {
      "image/png": "[encoded data removed]",
      "text/plain": [
       "<Figure size 720x504 with 1 Axes>"
      ]
     },
     "metadata": {
      "needs_background": "light"
     },
     "output_type": "display_data"
    }
   ],
   "source": [
    "plt.figure(figsize=(10, 7))\n",
    "sns.distplot(df_po[df_po.machine_id==1].price, bins=10, label='X220')\n",
    "sns.distplot(df_po[df_po.machine_id==2].price, bins=10, label='X230')\n",
    "sns.distplot(df_po[df_po.machine_id==3].price, bins=10, label='X240')\n",
    "plt.legend()\n",
    "plt.title('Price distribution for parts-only listings')"
   ]
  },
  {
   "cell_type": "code",
   "execution_count": null,
   "metadata": {},
   "outputs": [],
   "source": []
  }
 ],
 "metadata": {
  "kernelspec": {
   "display_name": "uda(3.7)",
   "language": "python",
   "name": "udacity"
  },
  "language_info": {
   "codemirror_mode": {
    "name": "ipython",
    "version": 3
   },
   "file_extension": ".py",
   "mimetype": "text/x-python",
   "name": "python",
   "nbconvert_exporter": "python",
   "pygments_lexer": "ipython3",
   "version": "3.7.7"
  }
 },
 "nbformat": 4,
 "nbformat_minor": 4
}
